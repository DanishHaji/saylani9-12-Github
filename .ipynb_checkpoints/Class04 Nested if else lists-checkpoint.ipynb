{
 "cells": [
  {
   "cell_type": "markdown",
   "id": "4d8d7ef9",
   "metadata": {},
   "source": [
    "### Recap"
   ]
  },
  {
   "cell_type": "code",
   "execution_count": 2,
   "id": "86281f23",
   "metadata": {},
   "outputs": [
    {
     "name": "stdout",
     "output_type": "stream",
     "text": [
      "Atleast Matric is the Bare Minimum Requirement\n"
     ]
    }
   ],
   "source": [
    "matric_pass = False\n",
    "\n",
    "\n",
    "if matric_pass:\n",
    "    print(f\"Can Proceed with the test\")\n",
    "else:\n",
    "    print(f\"Atleast Matric is the Bare Minimum Requirement\")"
   ]
  },
  {
   "cell_type": "markdown",
   "id": "09ce2d11",
   "metadata": {},
   "source": [
    "### Nested If Else"
   ]
  },
  {
   "cell_type": "code",
   "execution_count": 4,
   "id": "aff8ae43",
   "metadata": {},
   "outputs": [
    {
     "name": "stdout",
     "output_type": "stream",
     "text": [
      "Can Proceed with the test\n",
      "Status of Test (pass/fail):pass\n",
      "Can Take Admission\n"
     ]
    }
   ],
   "source": [
    "matric_pass = True\n",
    "\n",
    "#condtional statement\n",
    "if matric_pass:\n",
    "    print(f\"Can Proceed with the test\")\n",
    "    test_cleared = input(\"Status of Test (pass/fail):\")\n",
    "    #nested if\n",
    "    if test_cleared == \"pass\":\n",
    "        print(f\"Can Take Admission\")\n",
    "    else:\n",
    "        print(f\"You are in Waiting list\")\n",
    "else:\n",
    "    print(f\"Atleast Matric is the Bare Minimum Requirement\")"
   ]
  },
  {
   "cell_type": "code",
   "execution_count": 17,
   "id": "034ec721",
   "metadata": {},
   "outputs": [
    {
     "name": "stdout",
     "output_type": "stream",
     "text": [
      "Can not take Admission\n"
     ]
    }
   ],
   "source": [
    "cleared_test = True\n",
    "matric_pass = False\n",
    "'''\n",
    "conditional statement\n",
    "we are validating saylani students\n",
    "criteria is student will be matric pass and cleared test\n",
    "'''\n",
    "if cleared_test and matric_pass:\n",
    "    print(f\"Can take Admission\")\n",
    "elif (matric_pass):\n",
    "    print(f\"You are on waiting list\")\n",
    "else:\n",
    "    print(f\"Can not take Admission\")"
   ]
  },
  {
   "cell_type": "code",
   "execution_count": 20,
   "id": "dc9318e3",
   "metadata": {},
   "outputs": [
    {
     "name": "stdout",
     "output_type": "stream",
     "text": [
      "Enter Test Status (True/False)true\n",
      "Enter Test Educational Status (True/False)false\n",
      "Can take Addmission\n"
     ]
    }
   ],
   "source": [
    "cleared_test = bool(input(\"Enter Test Status (True/False)\"))\n",
    "matric_pass = bool(input(\"Enter Test Educational Status (True/False)\"))\n",
    "'''\n",
    "conditional statement\n",
    "we are validating saylani students\n",
    "criteria is student will be matric pass and cleared test\n",
    "'''\n",
    "if cleared_test and matric_pass:\n",
    "    print(f\"Can take Addmission\")        \n",
    "elif (matric_pass):\n",
    "    print(f\"You are on waiting list\")\n",
    "else:\n",
    "    print(f\"Can not take Admission\")"
   ]
  },
  {
   "cell_type": "markdown",
   "id": "ecd43bd9",
   "metadata": {},
   "source": [
    "## List\n",
    "\n",
    "Problem Can't store similar type values in varaiables <b>\n",
    "solution:list introduction a way to store same collection of values"
   ]
  },
  {
   "cell_type": "code",
   "execution_count": 21,
   "id": "6e8988ba",
   "metadata": {},
   "outputs": [],
   "source": [
    "city_0 = \"Atlanta\"\n",
    "city_1 = \"Baltimore\"\n",
    "city_2 = \"Chicago\"\n",
    "city_3 = \"Denver\"\n",
    "city_4 = \"Los Angeles\"\n",
    "city_5 = \"Seattle\""
   ]
  },
  {
   "cell_type": "markdown",
   "id": "06449bd9",
   "metadata": {},
   "source": [
    "SYNTAX OF LIST:\n",
    "list_name = [value1, values2]"
   ]
  },
  {
   "cell_type": "code",
   "execution_count": 23,
   "id": "98a2ae44",
   "metadata": {},
   "outputs": [],
   "source": [
    "#            0          1          2         3          4            5\n",
    "cities = [\"Atlanta\",\"Baltimore\",\"Chicago\",\"Denver\",\"Los Angeles\",\"Seattle\"]\n",
    "#            -6           -5          -4         -3            -2            -1"
   ]
  },
  {
   "cell_type": "code",
   "execution_count": 24,
   "id": "a773c485",
   "metadata": {},
   "outputs": [
    {
     "name": "stdout",
     "output_type": "stream",
     "text": [
      "<class 'list'>\n"
     ]
    }
   ],
   "source": [
    "print(type(cities))"
   ]
  },
  {
   "cell_type": "code",
   "execution_count": null,
   "id": "c5914ec8",
   "metadata": {},
   "outputs": [],
   "source": [
    "# Extracting values from list"
   ]
  },
  {
   "cell_type": "code",
   "execution_count": 25,
   "id": "8d742b98",
   "metadata": {},
   "outputs": [
    {
     "data": {
      "text/plain": [
       "'Atlanta'"
      ]
     },
     "execution_count": 25,
     "metadata": {},
     "output_type": "execute_result"
    }
   ],
   "source": [
    "cities[0]"
   ]
  },
  {
   "cell_type": "code",
   "execution_count": 27,
   "id": "f02088a8",
   "metadata": {},
   "outputs": [
    {
     "data": {
      "text/plain": [
       "'Baltimore'"
      ]
     },
     "execution_count": 27,
     "metadata": {},
     "output_type": "execute_result"
    }
   ],
   "source": [
    "cities[1]"
   ]
  },
  {
   "cell_type": "code",
   "execution_count": 28,
   "id": "77d07160",
   "metadata": {},
   "outputs": [
    {
     "data": {
      "text/plain": [
       "'Chicago'"
      ]
     },
     "execution_count": 28,
     "metadata": {},
     "output_type": "execute_result"
    }
   ],
   "source": [
    "cities[2]"
   ]
  },
  {
   "cell_type": "code",
   "execution_count": 29,
   "id": "10b5e837",
   "metadata": {},
   "outputs": [
    {
     "data": {
      "text/plain": [
       "'Seattle'"
      ]
     },
     "execution_count": 29,
     "metadata": {},
     "output_type": "execute_result"
    }
   ],
   "source": [
    "cities[-1]"
   ]
  },
  {
   "cell_type": "markdown",
   "id": "a5cd1c9e",
   "metadata": {},
   "source": [
    "## Taking slices out of them"
   ]
  },
  {
   "cell_type": "code",
   "execution_count": 30,
   "id": "54d1ef7e",
   "metadata": {},
   "outputs": [
    {
     "data": {
      "text/plain": [
       "['Atlanta', 'Baltimore', 'Chicago', 'Denver', 'Los Angeles', 'Seattle']"
      ]
     },
     "execution_count": 30,
     "metadata": {},
     "output_type": "execute_result"
    }
   ],
   "source": [
    "cities"
   ]
  },
  {
   "cell_type": "code",
   "execution_count": 31,
   "id": "9af10cb4",
   "metadata": {},
   "outputs": [
    {
     "data": {
      "text/plain": [
       "['Atlanta', 'Baltimore', 'Chicago']"
      ]
     },
     "execution_count": 31,
     "metadata": {},
     "output_type": "execute_result"
    }
   ],
   "source": [
    "cities[:3] # last index is excluded"
   ]
  },
  {
   "cell_type": "code",
   "execution_count": 32,
   "id": "c19424ad",
   "metadata": {},
   "outputs": [
    {
     "data": {
      "text/plain": [
       "['Chicago', 'Denver']"
      ]
     },
     "execution_count": 32,
     "metadata": {},
     "output_type": "execute_result"
    }
   ],
   "source": [
    "cities[2:4] # first values is included & last value will excluded (in Slicing)"
   ]
  },
  {
   "cell_type": "code",
   "execution_count": 36,
   "id": "0253a939",
   "metadata": {},
   "outputs": [
    {
     "data": {
      "text/plain": [
       "['Denver', 'Los Angeles']"
      ]
     },
     "execution_count": 36,
     "metadata": {},
     "output_type": "execute_result"
    }
   ],
   "source": [
    "cities[-3:-1] # same slicing rules should be apply here"
   ]
  },
  {
   "cell_type": "markdown",
   "id": "cdbaf3fc",
   "metadata": {},
   "source": [
    "Task3: Write a code that skip pne sity after another from start"
   ]
  },
  {
   "cell_type": "code",
   "execution_count": 38,
   "id": "29d59ecb",
   "metadata": {},
   "outputs": [
    {
     "data": {
      "text/plain": [
       "['Atlanta', 'Chicago', 'Los Angeles']"
      ]
     },
     "execution_count": 38,
     "metadata": {},
     "output_type": "execute_result"
    }
   ],
   "source": [
    "cities[::2]"
   ]
  },
  {
   "cell_type": "code",
   "execution_count": 39,
   "id": "4f7f722e",
   "metadata": {},
   "outputs": [
    {
     "data": {
      "text/plain": [
       "['Atlanta', 'Baltimore', 'Chicago', 'Denver', 'Los Angeles', 'Seattle']"
      ]
     },
     "execution_count": 39,
     "metadata": {},
     "output_type": "execute_result"
    }
   ],
   "source": [
    "cities #acending order"
   ]
  },
  {
   "cell_type": "code",
   "execution_count": 40,
   "id": "35a1f006",
   "metadata": {},
   "outputs": [
    {
     "data": {
      "text/plain": [
       "['Seattle', 'Los Angeles', 'Denver', 'Chicago', 'Baltimore', 'Atlanta']"
      ]
     },
     "execution_count": 40,
     "metadata": {},
     "output_type": "execute_result"
    }
   ],
   "source": [
    "cities[::-1] #decending order"
   ]
  },
  {
   "cell_type": "markdown",
   "id": "f842a875",
   "metadata": {},
   "source": [
    "## Adding & Inserting Values"
   ]
  },
  {
   "cell_type": "code",
   "execution_count": null,
   "id": "fb226eed",
   "metadata": {},
   "outputs": [],
   "source": []
  }
 ],
 "metadata": {
  "kernelspec": {
   "display_name": "Python 3 (ipykernel)",
   "language": "python",
   "name": "python3"
  },
  "language_info": {
   "codemirror_mode": {
    "name": "ipython",
    "version": 3
   },
   "file_extension": ".py",
   "mimetype": "text/x-python",
   "name": "python",
   "nbconvert_exporter": "python",
   "pygments_lexer": "ipython3",
   "version": "3.11.5"
  }
 },
 "nbformat": 4,
 "nbformat_minor": 5
}
