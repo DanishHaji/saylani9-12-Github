{
 "cells": [
  {
   "cell_type": "markdown",
   "id": "f185cc2e",
   "metadata": {},
   "source": [
    "### Recap"
   ]
  },
  {
   "cell_type": "code",
   "execution_count": 2,
   "id": "d830e5f8",
   "metadata": {},
   "outputs": [
    {
     "name": "stdout",
     "output_type": "stream",
     "text": [
      "Atleast Matric is the Bare Minimum Requirement\n"
     ]
    }
   ],
   "source": [
    "matric_pass = False\n",
    "\n",
    "\n",
    "if matric_pass:\n",
    "    print(f\"Can Proceed with the test\")\n",
    "else:\n",
    "    print(f\"Atleast Matric is the Bare Minimum Requirement\")"
   ]
  },
  {
   "cell_type": "markdown",
   "id": "ea61840e",
   "metadata": {},
   "source": [
    "### Nested If Else"
   ]
  },
  {
   "cell_type": "code",
   "execution_count": 4,
   "id": "51103118",
   "metadata": {},
   "outputs": [
    {
     "name": "stdout",
     "output_type": "stream",
     "text": [
      "Can Proceed with the test\n",
      "Status of Test (pass/fail):pass\n",
      "Can Take Admission\n"
     ]
    }
   ],
   "source": [
    "matric_pass = True\n",
    "\n",
    "#condtional statement\n",
    "if matric_pass:\n",
    "    print(f\"Can Proceed with the test\")\n",
    "    test_cleared = input(\"Status of Test (pass/fail):\")\n",
    "    #nested if\n",
    "    if test_cleared == \"pass\":\n",
    "        print(f\"Can Take Admission\")\n",
    "    else:\n",
    "        print(f\"You are in Waiting list\")\n",
    "else:\n",
    "    print(f\"Atleast Matric is the Bare Minimum Requirement\")"
   ]
  },
  {
   "cell_type": "code",
   "execution_count": 57,
   "id": "c285fde5",
   "metadata": {},
   "outputs": [
    {
     "name": "stdout",
     "output_type": "stream",
     "text": [
      "You are on waiting list\n"
     ]
    }
   ],
   "source": [
    "cleared_test = False\n",
    "matric_pass = True\n",
    "'''\n",
    "conditional statement\n",
    "we are validating saylani students\n",
    "criteria is student will be matric pass and cleared test\n",
    "'''\n",
    "if cleared_test and matric_pass:\n",
    "    print(f\"Can take Admission\")\n",
    "elif (matric_pass):\n",
    "    print(f\"You are on waiting list\")\n",
    "else:\n",
    "    print(f\"Can not take Admission\")"
   ]
  },
  {
   "cell_type": "code",
   "execution_count": 20,
   "id": "8e583128",
   "metadata": {},
   "outputs": [
    {
     "name": "stdout",
     "output_type": "stream",
     "text": [
      "Enter Test Status (True/False)true\n",
      "Enter Test Educational Status (True/False)false\n",
      "Can take Addmission\n"
     ]
    }
   ],
   "source": [
    "cleared_test = bool(input(\"Enter Test Status (True/False)\"))\n",
    "matric_pass = bool(input(\"Enter Test Educational Status (True/False)\"))\n",
    "'''\n",
    "conditional statement\n",
    "we are validating saylani students\n",
    "criteria is student will be matric pass and cleared test\n",
    "'''\n",
    "if cleared_test and matric_pass:\n",
    "    print(f\"Can take Addmission\")        \n",
    "elif (matric_pass):\n",
    "    print(f\"You are on waiting list\")\n",
    "else:\n",
    "    print(f\"Can not take Admission\")"
   ]
  },
  {
   "cell_type": "markdown",
   "id": "33139bcc",
   "metadata": {},
   "source": [
    "## List\n",
    "\n",
    "Problem Can't store similar type values in varaiables <b>\n",
    "solution:list introduction a way to store same collection of values"
   ]
  },
  {
   "cell_type": "code",
   "execution_count": 21,
   "id": "05ea1f00",
   "metadata": {},
   "outputs": [],
   "source": [
    "city_0 = \"Atlanta\"\n",
    "city_1 = \"Baltimore\"\n",
    "city_2 = \"Chicago\"\n",
    "city_3 = \"Denver\"\n",
    "city_4 = \"Los Angeles\"\n",
    "city_5 = \"Seattle\""
   ]
  },
  {
   "cell_type": "markdown",
   "id": "53cc99c0",
   "metadata": {},
   "source": [
    "SYNTAX OF LIST:\n",
    "list_name = [value1, values2]"
   ]
  },
  {
   "cell_type": "code",
   "execution_count": 23,
   "id": "7a80c8bf",
   "metadata": {},
   "outputs": [],
   "source": [
    "#            0          1          2         3          4            5\n",
    "cities = [\"Atlanta\",\"Baltimore\",\"Chicago\",\"Denver\",\"Los Angeles\",\"Seattle\"]\n",
    "#            -6           -5          -4         -3            -2            -1"
   ]
  },
  {
   "cell_type": "code",
   "execution_count": 24,
   "id": "ef14f37b",
   "metadata": {},
   "outputs": [
    {
     "name": "stdout",
     "output_type": "stream",
     "text": [
      "<class 'list'>\n"
     ]
    }
   ],
   "source": [
    "print(type(cities))"
   ]
  },
  {
   "cell_type": "code",
   "execution_count": null,
   "id": "ca2990ea",
   "metadata": {},
   "outputs": [],
   "source": [
    "# Extracting values from list"
   ]
  },
  {
   "cell_type": "code",
   "execution_count": 25,
   "id": "b074d053",
   "metadata": {},
   "outputs": [
    {
     "data": {
      "text/plain": [
       "'Atlanta'"
      ]
     },
     "execution_count": 25,
     "metadata": {},
     "output_type": "execute_result"
    }
   ],
   "source": [
    "cities[0]"
   ]
  },
  {
   "cell_type": "code",
   "execution_count": 27,
   "id": "f8998352",
   "metadata": {},
   "outputs": [
    {
     "data": {
      "text/plain": [
       "'Baltimore'"
      ]
     },
     "execution_count": 27,
     "metadata": {},
     "output_type": "execute_result"
    }
   ],
   "source": [
    "cities[1]"
   ]
  },
  {
   "cell_type": "code",
   "execution_count": 28,
   "id": "d71c2f7f",
   "metadata": {},
   "outputs": [
    {
     "data": {
      "text/plain": [
       "'Chicago'"
      ]
     },
     "execution_count": 28,
     "metadata": {},
     "output_type": "execute_result"
    }
   ],
   "source": [
    "cities[2]"
   ]
  },
  {
   "cell_type": "code",
   "execution_count": 29,
   "id": "a7b59aac",
   "metadata": {},
   "outputs": [
    {
     "data": {
      "text/plain": [
       "'Seattle'"
      ]
     },
     "execution_count": 29,
     "metadata": {},
     "output_type": "execute_result"
    }
   ],
   "source": [
    "cities[-1]"
   ]
  },
  {
   "cell_type": "markdown",
   "id": "5c02dc10",
   "metadata": {},
   "source": [
    "## Taking slices out of them"
   ]
  },
  {
   "cell_type": "code",
   "execution_count": 30,
   "id": "74256265",
   "metadata": {},
   "outputs": [
    {
     "data": {
      "text/plain": [
       "['Atlanta', 'Baltimore', 'Chicago', 'Denver', 'Los Angeles', 'Seattle']"
      ]
     },
     "execution_count": 30,
     "metadata": {},
     "output_type": "execute_result"
    }
   ],
   "source": [
    "cities"
   ]
  },
  {
   "cell_type": "code",
   "execution_count": 31,
   "id": "f0265ecd",
   "metadata": {},
   "outputs": [
    {
     "data": {
      "text/plain": [
       "['Atlanta', 'Baltimore', 'Chicago']"
      ]
     },
     "execution_count": 31,
     "metadata": {},
     "output_type": "execute_result"
    }
   ],
   "source": [
    "cities[:3] # last index is excluded"
   ]
  },
  {
   "cell_type": "code",
   "execution_count": 32,
   "id": "8efd47ee",
   "metadata": {},
   "outputs": [
    {
     "data": {
      "text/plain": [
       "['Chicago', 'Denver']"
      ]
     },
     "execution_count": 32,
     "metadata": {},
     "output_type": "execute_result"
    }
   ],
   "source": [
    "cities[2:4] # first values is included & last value will excluded (in Slicing)"
   ]
  },
  {
   "cell_type": "code",
   "execution_count": 36,
   "id": "99e9b5ec",
   "metadata": {},
   "outputs": [
    {
     "data": {
      "text/plain": [
       "['Denver', 'Los Angeles']"
      ]
     },
     "execution_count": 36,
     "metadata": {},
     "output_type": "execute_result"
    }
   ],
   "source": [
    "cities[-3:-1] # same slicing rules should be apply here"
   ]
  },
  {
   "cell_type": "markdown",
   "id": "10af460e",
   "metadata": {},
   "source": [
    "Task3: Write a code that skip pne sity after another from start"
   ]
  },
  {
   "cell_type": "code",
   "execution_count": 38,
   "id": "2f192943",
   "metadata": {},
   "outputs": [
    {
     "data": {
      "text/plain": [
       "['Atlanta', 'Chicago', 'Los Angeles']"
      ]
     },
     "execution_count": 38,
     "metadata": {},
     "output_type": "execute_result"
    }
   ],
   "source": [
    "cities[::2]"
   ]
  },
  {
   "cell_type": "code",
   "execution_count": 39,
   "id": "a5e61f79",
   "metadata": {},
   "outputs": [
    {
     "data": {
      "text/plain": [
       "['Atlanta', 'Baltimore', 'Chicago', 'Denver', 'Los Angeles', 'Seattle']"
      ]
     },
     "execution_count": 39,
     "metadata": {},
     "output_type": "execute_result"
    }
   ],
   "source": [
    "cities #acending order"
   ]
  },
  {
   "cell_type": "code",
   "execution_count": 40,
   "id": "d097a2d3",
   "metadata": {},
   "outputs": [
    {
     "data": {
      "text/plain": [
       "['Seattle', 'Los Angeles', 'Denver', 'Chicago', 'Baltimore', 'Atlanta']"
      ]
     },
     "execution_count": 40,
     "metadata": {},
     "output_type": "execute_result"
    }
   ],
   "source": [
    "cities[::-1] #decending order"
   ]
  },
  {
   "cell_type": "markdown",
   "id": "f6859132",
   "metadata": {},
   "source": [
    "## Adding & Inserting Values"
   ]
  },
  {
   "cell_type": "code",
   "execution_count": null,
   "id": "4bf70dfd",
   "metadata": {},
   "outputs": [],
   "source": [
    "cities. # Method-1: Press TAb to get intelligence regarding available functions"
   ]
  },
  {
   "cell_type": "code",
   "execution_count": 42,
   "id": "cf9f386f",
   "metadata": {},
   "outputs": [
    {
     "data": {
      "text/plain": [
       "['__add__',\n",
       " '__class__',\n",
       " '__class_getitem__',\n",
       " '__contains__',\n",
       " '__delattr__',\n",
       " '__delitem__',\n",
       " '__dir__',\n",
       " '__doc__',\n",
       " '__eq__',\n",
       " '__format__',\n",
       " '__ge__',\n",
       " '__getattribute__',\n",
       " '__getitem__',\n",
       " '__getstate__',\n",
       " '__gt__',\n",
       " '__hash__',\n",
       " '__iadd__',\n",
       " '__imul__',\n",
       " '__init__',\n",
       " '__init_subclass__',\n",
       " '__iter__',\n",
       " '__le__',\n",
       " '__len__',\n",
       " '__lt__',\n",
       " '__mul__',\n",
       " '__ne__',\n",
       " '__new__',\n",
       " '__reduce__',\n",
       " '__reduce_ex__',\n",
       " '__repr__',\n",
       " '__reversed__',\n",
       " '__rmul__',\n",
       " '__setattr__',\n",
       " '__setitem__',\n",
       " '__sizeof__',\n",
       " '__str__',\n",
       " '__subclasshook__',\n",
       " 'append',\n",
       " 'clear',\n",
       " 'copy',\n",
       " 'count',\n",
       " 'extend',\n",
       " 'index',\n",
       " 'insert',\n",
       " 'pop',\n",
       " 'remove',\n",
       " 'reverse',\n",
       " 'sort']"
      ]
     },
     "execution_count": 42,
     "metadata": {},
     "output_type": "execute_result"
    }
   ],
   "source": [
    "dir(cities) # Method-2: To list the attributes (methods, properties, and other members) of an object"
   ]
  },
  {
   "cell_type": "code",
   "execution_count": 45,
   "id": "d243f965",
   "metadata": {},
   "outputs": [],
   "source": [
    "cities.append(\"New York\") # be default add values at the end of list"
   ]
  },
  {
   "cell_type": "code",
   "execution_count": 44,
   "id": "be1bcdf7",
   "metadata": {},
   "outputs": [
    {
     "name": "stdout",
     "output_type": "stream",
     "text": [
      "<class 'list'>\n"
     ]
    }
   ],
   "source": [
    "print(type(cities))"
   ]
  },
  {
   "cell_type": "code",
   "execution_count": 46,
   "id": "20a529b8",
   "metadata": {},
   "outputs": [
    {
     "data": {
      "text/plain": [
       "['Atlanta',\n",
       " 'Baltimore',\n",
       " 'Chicago',\n",
       " 'Denver',\n",
       " 'Los Angeles',\n",
       " 'Seattle',\n",
       " 'New York']"
      ]
     },
     "execution_count": 46,
     "metadata": {},
     "output_type": "execute_result"
    }
   ],
   "source": [
    "cities"
   ]
  },
  {
   "cell_type": "code",
   "execution_count": 52,
   "id": "5ccbd242",
   "metadata": {},
   "outputs": [],
   "source": [
    "cities.append(\"Alaska\")"
   ]
  },
  {
   "cell_type": "code",
   "execution_count": 53,
   "id": "87b1abe2",
   "metadata": {},
   "outputs": [
    {
     "data": {
      "text/plain": [
       "['Texas',\n",
       " 'Atlanta',\n",
       " 'Baltimore',\n",
       " 'Chicago',\n",
       " 'Denver',\n",
       " 'Los Angeles',\n",
       " 'Seattle',\n",
       " 'New York',\n",
       " 'karachi',\n",
       " 'Alaska']"
      ]
     },
     "execution_count": 53,
     "metadata": {},
     "output_type": "execute_result"
    }
   ],
   "source": [
    "cities"
   ]
  },
  {
   "cell_type": "code",
   "execution_count": 50,
   "id": "8c2ffd0f",
   "metadata": {},
   "outputs": [],
   "source": [
    "cities.insert(0, \"Texas\") # by pressing shift+tab will show how to do command or method."
   ]
  },
  {
   "cell_type": "code",
   "execution_count": 54,
   "id": "75cc4904",
   "metadata": {},
   "outputs": [
    {
     "data": {
      "text/plain": [
       "['Texas',\n",
       " 'Atlanta',\n",
       " 'Baltimore',\n",
       " 'Chicago',\n",
       " 'Denver',\n",
       " 'Los Angeles',\n",
       " 'Seattle',\n",
       " 'New York',\n",
       " 'karachi',\n",
       " 'Alaska',\n",
       " 'Dallas']"
      ]
     },
     "execution_count": 54,
     "metadata": {},
     "output_type": "execute_result"
    }
   ],
   "source": [
    "cities + ['Dallas'] # concatination of lists"
   ]
  },
  {
   "cell_type": "code",
   "execution_count": 55,
   "id": "90d71fb3",
   "metadata": {},
   "outputs": [],
   "source": [
    "cities = cities + ['Dallas']"
   ]
  },
  {
   "cell_type": "code",
   "execution_count": 56,
   "id": "62fbce26",
   "metadata": {},
   "outputs": [
    {
     "data": {
      "text/plain": [
       "['Texas',\n",
       " 'Atlanta',\n",
       " 'Baltimore',\n",
       " 'Chicago',\n",
       " 'Denver',\n",
       " 'Los Angeles',\n",
       " 'Seattle',\n",
       " 'New York',\n",
       " 'karachi',\n",
       " 'Alaska',\n",
       " 'Dallas']"
      ]
     },
     "execution_count": 56,
     "metadata": {},
     "output_type": "execute_result"
    }
   ],
   "source": [
    "cities"
   ]
  },
  {
   "cell_type": "markdown",
   "id": "2407eef1",
   "metadata": {},
   "source": [
    "### Deleting and Removing Elements"
   ]
  },
  {
   "cell_type": "code",
   "execution_count": 58,
   "id": "26713269",
   "metadata": {},
   "outputs": [],
   "source": [
    "cities.remove(\"karachi\") #Method-1 Deleting by passing value"
   ]
  },
  {
   "cell_type": "code",
   "execution_count": 59,
   "id": "0ba77528",
   "metadata": {},
   "outputs": [
    {
     "data": {
      "text/plain": [
       "['Texas',\n",
       " 'Atlanta',\n",
       " 'Baltimore',\n",
       " 'Chicago',\n",
       " 'Denver',\n",
       " 'Los Angeles',\n",
       " 'Seattle',\n",
       " 'New York',\n",
       " 'Alaska',\n",
       " 'Dallas']"
      ]
     },
     "execution_count": 59,
     "metadata": {},
     "output_type": "execute_result"
    }
   ],
   "source": [
    "cities"
   ]
  },
  {
   "cell_type": "code",
   "execution_count": 60,
   "id": "710e46f0",
   "metadata": {},
   "outputs": [],
   "source": [
    "del(cities[0]) #Method-2 deleting by indexing"
   ]
  },
  {
   "cell_type": "code",
   "execution_count": 61,
   "id": "7e2e572d",
   "metadata": {},
   "outputs": [
    {
     "data": {
      "text/plain": [
       "['Atlanta',\n",
       " 'Baltimore',\n",
       " 'Chicago',\n",
       " 'Denver',\n",
       " 'Los Angeles',\n",
       " 'Seattle',\n",
       " 'New York',\n",
       " 'Alaska',\n",
       " 'Dallas']"
      ]
     },
     "execution_count": 61,
     "metadata": {},
     "output_type": "execute_result"
    }
   ],
   "source": [
    "cities"
   ]
  },
  {
   "cell_type": "markdown",
   "id": "e6a11246",
   "metadata": {},
   "source": [
    "### Popping Values from List"
   ]
  },
  {
   "cell_type": "code",
   "execution_count": 62,
   "id": "94edbe70",
   "metadata": {},
   "outputs": [],
   "source": [
    "holding_pop_city = cities.pop() # value get removed from list & store in varaibale"
   ]
  },
  {
   "cell_type": "code",
   "execution_count": 63,
   "id": "956e71c1",
   "metadata": {},
   "outputs": [
    {
     "data": {
      "text/plain": [
       "'Dallas'"
      ]
     },
     "execution_count": 63,
     "metadata": {},
     "output_type": "execute_result"
    }
   ],
   "source": [
    "holding_pop_city"
   ]
  },
  {
   "cell_type": "code",
   "execution_count": 64,
   "id": "e6b2cfc1",
   "metadata": {},
   "outputs": [
    {
     "data": {
      "text/plain": [
       "['Atlanta',\n",
       " 'Baltimore',\n",
       " 'Chicago',\n",
       " 'Denver',\n",
       " 'Los Angeles',\n",
       " 'Seattle',\n",
       " 'New York',\n",
       " 'Alaska']"
      ]
     },
     "execution_count": 64,
     "metadata": {},
     "output_type": "execute_result"
    }
   ],
   "source": [
    "cities"
   ]
  },
  {
   "cell_type": "code",
   "execution_count": 65,
   "id": "34facff6",
   "metadata": {},
   "outputs": [
    {
     "data": {
      "text/plain": [
       "'Los Angeles'"
      ]
     },
     "execution_count": 65,
     "metadata": {},
     "output_type": "execute_result"
    }
   ],
   "source": [
    "cities.pop(-4)"
   ]
  },
  {
   "cell_type": "code",
   "execution_count": 66,
   "id": "71f3e38f",
   "metadata": {},
   "outputs": [
    {
     "data": {
      "text/plain": [
       "['Atlanta', 'Baltimore', 'Chicago', 'Denver', 'Seattle', 'New York', 'Alaska']"
      ]
     },
     "execution_count": 66,
     "metadata": {},
     "output_type": "execute_result"
    }
   ],
   "source": [
    "cities"
   ]
  },
  {
   "cell_type": "code",
   "execution_count": 67,
   "id": "6919893d",
   "metadata": {},
   "outputs": [
    {
     "data": {
      "text/plain": [
       "'Chicago'"
      ]
     },
     "execution_count": 67,
     "metadata": {},
     "output_type": "execute_result"
    }
   ],
   "source": [
    "cities.pop(2) # can give positive value"
   ]
  },
  {
   "cell_type": "code",
   "execution_count": 68,
   "id": "691ef883",
   "metadata": {},
   "outputs": [
    {
     "data": {
      "text/plain": [
       "['Atlanta', 'Baltimore', 'Denver', 'Seattle', 'New York', 'Alaska']"
      ]
     },
     "execution_count": 68,
     "metadata": {},
     "output_type": "execute_result"
    }
   ],
   "source": [
    "cities"
   ]
  },
  {
   "cell_type": "code",
   "execution_count": 73,
   "id": "a88bcb0f",
   "metadata": {},
   "outputs": [],
   "source": [
    "tasks = ['prayingFajr', 'running', 'breakfast','studying']\n",
    "tasks_done = []"
   ]
  },
  {
   "cell_type": "code",
   "execution_count": 74,
   "id": "b4a87ce2",
   "metadata": {},
   "outputs": [],
   "source": [
    "tasks_done.append(tasks.pop(0))"
   ]
  },
  {
   "cell_type": "code",
   "execution_count": 75,
   "id": "bc09a8bf",
   "metadata": {},
   "outputs": [
    {
     "data": {
      "text/plain": [
       "['running', 'breakfast', 'studying']"
      ]
     },
     "execution_count": 75,
     "metadata": {},
     "output_type": "execute_result"
    }
   ],
   "source": [
    "tasks"
   ]
  },
  {
   "cell_type": "code",
   "execution_count": 76,
   "id": "9a286182",
   "metadata": {},
   "outputs": [
    {
     "data": {
      "text/plain": [
       "['prayingFajr']"
      ]
     },
     "execution_count": 76,
     "metadata": {},
     "output_type": "execute_result"
    }
   ],
   "source": [
    "tasks_done"
   ]
  },
  {
   "cell_type": "markdown",
   "id": "6fc1a056",
   "metadata": {},
   "source": [
    "#### Extra Methods"
   ]
  },
  {
   "cell_type": "code",
   "execution_count": 78,
   "id": "479c7d56",
   "metadata": {},
   "outputs": [],
   "source": [
    " tasks_done.clear() # removed all values from list & make it empty list"
   ]
  },
  {
   "cell_type": "code",
   "execution_count": 79,
   "id": "62372e53",
   "metadata": {},
   "outputs": [
    {
     "data": {
      "text/plain": [
       "[]"
      ]
     },
     "execution_count": 79,
     "metadata": {},
     "output_type": "execute_result"
    }
   ],
   "source": [
    "tasks_done"
   ]
  },
  {
   "cell_type": "code",
   "execution_count": null,
   "id": "cbf7dcf1",
   "metadata": {},
   "outputs": [],
   "source": [
    "Shallow Copy\n",
    "- Referencing the same original\n",
    "- Changing in original can affect the copy\n",
    "\n",
    "Deep Copy:\n",
    "- Create seperated copy of the object\n",
    "- Changing in original can't affect the copy"
   ]
  },
  {
   "cell_type": "code",
   "execution_count": 80,
   "id": "88d66583",
   "metadata": {},
   "outputs": [],
   "source": [
    "todolist = tasks.copy()"
   ]
  },
  {
   "cell_type": "code",
   "execution_count": 81,
   "id": "efbf77ad",
   "metadata": {},
   "outputs": [
    {
     "data": {
      "text/plain": [
       "['running', 'breakfast', 'studying']"
      ]
     },
     "execution_count": 81,
     "metadata": {},
     "output_type": "execute_result"
    }
   ],
   "source": [
    "todolist"
   ]
  },
  {
   "cell_type": "code",
   "execution_count": 82,
   "id": "49a2f3c3",
   "metadata": {},
   "outputs": [
    {
     "data": {
      "text/plain": [
       "['running', 'breakfast', 'studying']"
      ]
     },
     "execution_count": 82,
     "metadata": {},
     "output_type": "execute_result"
    }
   ],
   "source": [
    "tasks"
   ]
  },
  {
   "cell_type": "code",
   "execution_count": 84,
   "id": "d3a6e22f",
   "metadata": {},
   "outputs": [],
   "source": [
    "tasks.append(\"Shopping\") # "
   ]
  },
  {
   "cell_type": "code",
   "execution_count": 85,
   "id": "41926307",
   "metadata": {},
   "outputs": [
    {
     "data": {
      "text/plain": [
       "['running', 'breakfast', 'studying', 'Shopping']"
      ]
     },
     "execution_count": 85,
     "metadata": {},
     "output_type": "execute_result"
    }
   ],
   "source": [
    "tasks"
   ]
  },
  {
   "cell_type": "code",
   "execution_count": 86,
   "id": "e08a25b0",
   "metadata": {},
   "outputs": [
    {
     "data": {
      "text/plain": [
       "['running', 'breakfast', 'studying']"
      ]
     },
     "execution_count": 86,
     "metadata": {},
     "output_type": "execute_result"
    }
   ],
   "source": [
    "todolist"
   ]
  },
  {
   "cell_type": "code",
   "execution_count": null,
   "id": "bcd6c988",
   "metadata": {},
   "outputs": [],
   "source": []
  }
 ],
 "metadata": {
  "kernelspec": {
   "display_name": "Python 3 (ipykernel)",
   "language": "python",
   "name": "python3"
  },
  "language_info": {
   "codemirror_mode": {
    "name": "ipython",
    "version": 3
   },
   "file_extension": ".py",
   "mimetype": "text/x-python",
   "name": "python",
   "nbconvert_exporter": "python",
   "pygments_lexer": "ipython3",
   "version": "3.11.5"
  }
 },
 "nbformat": 4,
 "nbformat_minor": 5
}
